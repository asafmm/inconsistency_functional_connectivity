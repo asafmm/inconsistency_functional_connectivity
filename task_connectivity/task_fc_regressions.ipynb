{
 "cells": [
  {
   "cell_type": "code",
   "execution_count": 419,
   "id": "4212957f",
   "metadata": {
    "id": "59ffb438-d8a3-4b9f-954c-b978988a02f3"
   },
   "outputs": [],
   "source": [
    "import numpy as np\n",
    "import pandas as pd\n",
    "import scipy \n",
    "import numpy.matlib\n",
    "import nilearn\n",
    "import random\n",
    "import matplotlib.pyplot as plt\n",
    "import seaborn as sns\n",
    "import glob\n",
    "# import matplotlib_inline\n",
    "import matplotlib\n",
    "# matplotlib_inline.backend_inline.set_matplotlib_formats('retina')\n",
    "import datetime\n",
    "import statsmodels.api as sm\n",
    "import statsmodels.formula.api as smf\n",
    "from sklearn.linear_model import Lasso, LassoCV, ElasticNet, ElasticNetCV, LinearRegression"
   ]
  },
  {
   "cell_type": "code",
   "execution_count": 400,
   "id": "9aba4b6f",
   "metadata": {
    "colab": {
     "base_uri": "https://localhost:8080/",
     "height": 1000
    },
    "id": "fe180368-c94f-460a-8fc5-e73d130e58af",
    "outputId": "ef6f2c12-0227-4e4d-a79d-bbd4ae911301"
   },
   "outputs": [],
   "source": [
    "# motor and value areas functional connectivity matrix\n",
    "task_fc = pd.read_csv('task_fc_motor_value.csv', index_col = 'Subject')\n",
    "X = task_fc"
   ]
  },
  {
   "cell_type": "code",
   "execution_count": 401,
   "metadata": {},
   "outputs": [],
   "source": [
    "Ys = pd.read_csv('../data/aggregate_indices_subs101_148_08Dec2020.csv', index_col = 'Subject')\n",
    "Ys = Ys.rename({'AFRIAT Index' : 'Afriat Index', 'VARIAN Index AVG(SSQ)' : 'Varian Index', 'MMI Criterion Avg(SumOfSquares(Wastes))' : 'MMI'}, axis = 1)\n",
    "Ys = Ys.loc[X.index, :]\n",
    "measure = 'MMI'\n",
    "log_measure = 'log' + measure"
   ]
  },
  {
   "cell_type": "code",
   "execution_count": 402,
   "metadata": {},
   "outputs": [],
   "source": [
    "Ys.loc[:, log_measure] = np.log(Ys[measure])"
   ]
  },
  {
   "cell_type": "code",
   "execution_count": 403,
   "metadata": {},
   "outputs": [],
   "source": [
    "Y = Ys.loc[:, log_measure]"
   ]
  },
  {
   "cell_type": "code",
   "execution_count": 405,
   "metadata": {},
   "outputs": [
    {
     "data": {
      "text/plain": [
       "LassoCV(alphas=array([0.0001    , 0.00113103, 0.00216207, 0.0031931 , 0.00422414,\n",
       "       0.00525517, 0.00628621, 0.00731724, 0.00834828, 0.00937931,\n",
       "       0.01041034, 0.01144138, 0.01247241, 0.01350345, 0.01453448,\n",
       "       0.01556552, 0.01659655, 0.01762759, 0.01865862, 0.01968966,\n",
       "       0.02072069, 0.02175172, 0.02278276, 0.02381379, 0.02484483,\n",
       "       0.02587586, 0.0269069 , 0.02793793, 0.02896897, 0.03      ]))"
      ]
     },
     "execution_count": 405,
     "metadata": {},
     "output_type": "execute_result"
    }
   ],
   "source": [
    "lasso_mod = LassoCV(alphas=np.linspace(1e-4, 3e-2, 30))\n",
    "lasso_mod.fit(X, Y)"
   ]
  },
  {
   "cell_type": "code",
   "execution_count": 416,
   "metadata": {},
   "outputs": [
    {
     "data": {
      "text/plain": [
       "array([[1.        , 0.33205206],\n",
       "       [0.33205206, 1.        ]])"
      ]
     },
     "execution_count": 416,
     "metadata": {},
     "output_type": "execute_result"
    }
   ],
   "source": [
    "np.corrcoef(Y,lasso_mod.predict(X))"
   ]
  },
  {
   "cell_type": "code",
   "execution_count": 418,
   "metadata": {},
   "outputs": [
    {
     "data": {
      "text/plain": [
       "(0.023813793103448277, 0.03)"
      ]
     },
     "execution_count": 418,
     "metadata": {},
     "output_type": "execute_result"
    }
   ],
   "source": [
    "lasso_mod.alpha_, max(np.linspace(1e-4, 3e-2, 30))"
   ]
  },
  {
   "cell_type": "code",
   "execution_count": 407,
   "metadata": {},
   "outputs": [],
   "source": [
    "lasso_selection = lasso_mod.coef_!=0"
   ]
  },
  {
   "cell_type": "code",
   "execution_count": 409,
   "metadata": {},
   "outputs": [
    {
     "data": {
      "text/plain": [
       "'VSTR__SMA+M1__SMA+M1__Kolling+VMPFC__Kolling'"
      ]
     },
     "execution_count": 409,
     "metadata": {},
     "output_type": "execute_result"
    }
   ],
   "source": [
    "'+'.join(X.columns[np.where(lasso_mod.coef_!=0)])"
   ]
  },
  {
   "cell_type": "code",
   "execution_count": 452,
   "metadata": {},
   "outputs": [
    {
     "name": "stderr",
     "output_type": "stream",
     "text": [
      "C:\\Users\\Asaf\\anaconda3\\lib\\site-packages\\sklearn\\linear_model\\_coordinate_descent.py:633: UserWarning: Coordinate descent with alpha=0 may lead to unexpected results and is discouraged.\n",
      "  model = cd_fast.enet_coordinate_descent_gram(\n",
      "C:\\Users\\Asaf\\anaconda3\\lib\\site-packages\\sklearn\\linear_model\\_coordinate_descent.py:633: ConvergenceWarning: Objective did not converge. You might want to increase the number of iterations. Duality gap: 18.74487585406853, tolerance: 0.003980912811568918\n",
      "  model = cd_fast.enet_coordinate_descent_gram(\n",
      "C:\\Users\\Asaf\\anaconda3\\lib\\site-packages\\sklearn\\linear_model\\_coordinate_descent.py:633: UserWarning: Coordinate descent with alpha=0 may lead to unexpected results and is discouraged.\n",
      "  model = cd_fast.enet_coordinate_descent_gram(\n",
      "C:\\Users\\Asaf\\anaconda3\\lib\\site-packages\\sklearn\\linear_model\\_coordinate_descent.py:633: ConvergenceWarning: Objective did not converge. You might want to increase the number of iterations. Duality gap: 18.226590805274242, tolerance: 0.003980912811568918\n",
      "  model = cd_fast.enet_coordinate_descent_gram(\n",
      "C:\\Users\\Asaf\\anaconda3\\lib\\site-packages\\sklearn\\linear_model\\_coordinate_descent.py:633: UserWarning: Coordinate descent with alpha=0 may lead to unexpected results and is discouraged.\n",
      "  model = cd_fast.enet_coordinate_descent_gram(\n",
      "C:\\Users\\Asaf\\anaconda3\\lib\\site-packages\\sklearn\\linear_model\\_coordinate_descent.py:633: ConvergenceWarning: Objective did not converge. You might want to increase the number of iterations. Duality gap: 18.318333645865263, tolerance: 0.00378129294919047\n",
      "  model = cd_fast.enet_coordinate_descent_gram(\n",
      "C:\\Users\\Asaf\\anaconda3\\lib\\site-packages\\sklearn\\linear_model\\_coordinate_descent.py:633: UserWarning: Coordinate descent with alpha=0 may lead to unexpected results and is discouraged.\n",
      "  model = cd_fast.enet_coordinate_descent_gram(\n",
      "C:\\Users\\Asaf\\anaconda3\\lib\\site-packages\\sklearn\\linear_model\\_coordinate_descent.py:633: ConvergenceWarning: Objective did not converge. You might want to increase the number of iterations. Duality gap: 17.937835245328653, tolerance: 0.00378129294919047\n",
      "  model = cd_fast.enet_coordinate_descent_gram(\n",
      "C:\\Users\\Asaf\\anaconda3\\lib\\site-packages\\sklearn\\linear_model\\_coordinate_descent.py:633: UserWarning: Coordinate descent with alpha=0 may lead to unexpected results and is discouraged.\n",
      "  model = cd_fast.enet_coordinate_descent_gram(\n",
      "C:\\Users\\Asaf\\anaconda3\\lib\\site-packages\\sklearn\\linear_model\\_coordinate_descent.py:633: ConvergenceWarning: Objective did not converge. You might want to increase the number of iterations. Duality gap: 15.19278412886926, tolerance: 0.0030833286219332876\n",
      "  model = cd_fast.enet_coordinate_descent_gram(\n",
      "C:\\Users\\Asaf\\anaconda3\\lib\\site-packages\\sklearn\\linear_model\\_coordinate_descent.py:633: UserWarning: Coordinate descent with alpha=0 may lead to unexpected results and is discouraged.\n",
      "  model = cd_fast.enet_coordinate_descent_gram(\n",
      "C:\\Users\\Asaf\\anaconda3\\lib\\site-packages\\sklearn\\linear_model\\_coordinate_descent.py:633: ConvergenceWarning: Objective did not converge. You might want to increase the number of iterations. Duality gap: 15.024115171652824, tolerance: 0.0030833286219332876\n",
      "  model = cd_fast.enet_coordinate_descent_gram(\n",
      "C:\\Users\\Asaf\\anaconda3\\lib\\site-packages\\sklearn\\linear_model\\_coordinate_descent.py:633: UserWarning: Coordinate descent with alpha=0 may lead to unexpected results and is discouraged.\n",
      "  model = cd_fast.enet_coordinate_descent_gram(\n",
      "C:\\Users\\Asaf\\anaconda3\\lib\\site-packages\\sklearn\\linear_model\\_coordinate_descent.py:633: ConvergenceWarning: Objective did not converge. You might want to increase the number of iterations. Duality gap: 12.770782005306856, tolerance: 0.0027620560894765535\n",
      "  model = cd_fast.enet_coordinate_descent_gram(\n",
      "C:\\Users\\Asaf\\anaconda3\\lib\\site-packages\\sklearn\\linear_model\\_coordinate_descent.py:633: UserWarning: Coordinate descent with alpha=0 may lead to unexpected results and is discouraged.\n",
      "  model = cd_fast.enet_coordinate_descent_gram(\n",
      "C:\\Users\\Asaf\\anaconda3\\lib\\site-packages\\sklearn\\linear_model\\_coordinate_descent.py:633: ConvergenceWarning: Objective did not converge. You might want to increase the number of iterations. Duality gap: 12.245267921401192, tolerance: 0.0027620560894765535\n",
      "  model = cd_fast.enet_coordinate_descent_gram(\n",
      "C:\\Users\\Asaf\\anaconda3\\lib\\site-packages\\sklearn\\linear_model\\_coordinate_descent.py:633: UserWarning: Coordinate descent with alpha=0 may lead to unexpected results and is discouraged.\n",
      "  model = cd_fast.enet_coordinate_descent_gram(\n",
      "C:\\Users\\Asaf\\anaconda3\\lib\\site-packages\\sklearn\\linear_model\\_coordinate_descent.py:633: ConvergenceWarning: Objective did not converge. You might want to increase the number of iterations. Duality gap: 18.665512614141033, tolerance: 0.0038282173638152063\n",
      "  model = cd_fast.enet_coordinate_descent_gram(\n",
      "C:\\Users\\Asaf\\anaconda3\\lib\\site-packages\\sklearn\\linear_model\\_coordinate_descent.py:633: UserWarning: Coordinate descent with alpha=0 may lead to unexpected results and is discouraged.\n",
      "  model = cd_fast.enet_coordinate_descent_gram(\n",
      "C:\\Users\\Asaf\\anaconda3\\lib\\site-packages\\sklearn\\linear_model\\_coordinate_descent.py:633: ConvergenceWarning: Objective did not converge. You might want to increase the number of iterations. Duality gap: 18.33726323833362, tolerance: 0.0038282173638152063\n",
      "  model = cd_fast.enet_coordinate_descent_gram(\n",
      "C:\\Users\\Asaf\\anaconda3\\lib\\site-packages\\sklearn\\linear_model\\_coordinate_descent.py:647: ConvergenceWarning: Objective did not converge. You might want to increase the number of iterations, check the scale of the features or consider increasing regularisation. Duality gap: 2.130e+01, tolerance: 4.391e-03 Linear regression models with null weight for the l1 regularization term are more efficiently fitted using one of the solvers implemented in sklearn.linear_model.Ridge/RidgeCV instead.\n",
      "  model = cd_fast.enet_coordinate_descent(\n"
     ]
    },
    {
     "data": {
      "text/plain": [
       "array([-0.07201485, -0.00556279, -0.14205025, -0.03316867,  0.0393993 ,\n",
       "        0.08248064, -0.00533119,  0.11786932, -0.08970303,  0.12266496,\n",
       "       -0.05881761, -0.05649931, -0.11319343, -0.1131752 , -0.03333432])"
      ]
     },
     "execution_count": 452,
     "metadata": {},
     "output_type": "execute_result"
    }
   ],
   "source": [
    "elastic_mod = ElasticNetCV(alphas=[0.1, 0.2], l1_ratio=0, max_iter=1e4)\n",
    "elastic_mod.fit(X,Y)\n",
    "elastic_mod.coef_"
   ]
  },
  {
   "cell_type": "code",
   "execution_count": 425,
   "metadata": {},
   "outputs": [],
   "source": [
    "XY_merged = pd.concat([Y, X.iloc[:, lasso_selection]], axis=1)"
   ]
  },
  {
   "cell_type": "code",
   "execution_count": 396,
   "metadata": {},
   "outputs": [],
   "source": [
    "covariates = '+'.join(XY_merged.columns[1:].to_list())"
   ]
  },
  {
   "cell_type": "code",
   "execution_count": 397,
   "metadata": {},
   "outputs": [],
   "source": [
    "lm = smf.ols(f'{log_measure} ~ {covariates}', XY_merged)"
   ]
  },
  {
   "cell_type": "code",
   "execution_count": 398,
   "metadata": {},
   "outputs": [],
   "source": [
    "lm_fit = lm.fit()"
   ]
  },
  {
   "cell_type": "code",
   "execution_count": 399,
   "metadata": {},
   "outputs": [
    {
     "name": "stdout",
     "output_type": "stream",
     "text": [
      "                            OLS Regression Results                            \n",
      "==============================================================================\n",
      "Dep. Variable:                 logMMI   R-squared:                       0.137\n",
      "Model:                            OLS   Adj. R-squared:                  0.046\n",
      "Method:                 Least Squares   F-statistic:                     1.507\n",
      "Date:                Thu, 10 Feb 2022   Prob (F-statistic):              0.219\n",
      "Time:                        17:26:02   Log-Likelihood:                -58.301\n",
      "No. Observations:                  43   AIC:                             126.6\n",
      "Df Residuals:                      38   BIC:                             135.4\n",
      "Df Model:                           4                                         \n",
      "Covariance Type:            nonrobust                                         \n",
      "==================================================================================\n",
      "                     coef    std err          t      P>|t|      [0.025      0.975]\n",
      "----------------------------------------------------------------------------------\n",
      "Intercept         -2.6874      1.050     -2.560      0.015      -4.812      -0.563\n",
      "VSTR__SMA         -2.5681      1.288     -1.994      0.053      -5.175       0.039\n",
      "M1__SMA           -0.1044      0.883     -0.118      0.907      -1.892       1.684\n",
      "M1__Kolling        1.9501      1.191      1.638      0.110      -0.461       4.361\n",
      "VMPFC__Kolling     0.1333      0.642      0.208      0.837      -1.167       1.433\n",
      "==============================================================================\n",
      "Omnibus:                       10.162   Durbin-Watson:                   1.575\n",
      "Prob(Omnibus):                  0.006   Jarque-Bera (JB):               10.063\n",
      "Skew:                          -0.893   Prob(JB):                      0.00653\n",
      "Kurtosis:                       4.558   Cond. No.                         20.7\n",
      "==============================================================================\n",
      "\n",
      "Notes:\n",
      "[1] Standard Errors assume that the covariance matrix of the errors is correctly specified.\n"
     ]
    }
   ],
   "source": [
    "print(lm_fit.summary())"
   ]
  },
  {
   "cell_type": "markdown",
   "metadata": {},
   "source": [
    "## Per block"
   ]
  },
  {
   "cell_type": "code",
   "execution_count": 337,
   "metadata": {},
   "outputs": [],
   "source": [
    "# read trial by trial data and merge into one dataframe\n",
    "data_dir = r'./trial_data/'\n",
    "behavioral_files = glob.glob(data_dir+'*')\n",
    "behavioral_results = [pd.read_excel(behavioral_files[i]) for i in range(len(behavioral_files))]\n",
    "behavioral_results = pd.concat(behavioral_results)"
   ]
  },
  {
   "cell_type": "code",
   "execution_count": 338,
   "metadata": {},
   "outputs": [],
   "source": [
    "X = pd.read_csv('task_fc_motor_value_per_block.csv')\n",
    "X = X.groupby(['Subject', 'block_vec']).mean() # nothing to average, just groupby"
   ]
  },
  {
   "cell_type": "code",
   "execution_count": 339,
   "metadata": {},
   "outputs": [],
   "source": [
    "pd.options.display.max_columns=100"
   ]
  },
  {
   "cell_type": "code",
   "execution_count": 340,
   "metadata": {},
   "outputs": [],
   "source": [
    "behavioral_results = behavioral_results.rename({'MMI_In_Sample_component':'MMI', 'SID':'Subject'}, axis=1)\n",
    "Y = behavioral_results.loc[:, ['Subject', 'obs', 'block', 'MMI', 'slope', 'IntersectionY', 'X_allocation', 'Y_allocation', 'RT', 'SV', 'ChoiceDifficulty']]"
   ]
  },
  {
   "cell_type": "code",
   "execution_count": 342,
   "metadata": {},
   "outputs": [
    {
     "data": {
      "text/html": [
       "<div>\n",
       "<style scoped>\n",
       "    .dataframe tbody tr th:only-of-type {\n",
       "        vertical-align: middle;\n",
       "    }\n",
       "\n",
       "    .dataframe tbody tr th {\n",
       "        vertical-align: top;\n",
       "    }\n",
       "\n",
       "    .dataframe thead th {\n",
       "        text-align: right;\n",
       "    }\n",
       "</style>\n",
       "<table border=\"1\" class=\"dataframe\">\n",
       "  <thead>\n",
       "    <tr style=\"text-align: right;\">\n",
       "      <th></th>\n",
       "      <th></th>\n",
       "      <th>obs</th>\n",
       "      <th>MMI</th>\n",
       "      <th>slope</th>\n",
       "      <th>IntersectionY</th>\n",
       "      <th>X_allocation</th>\n",
       "      <th>Y_allocation</th>\n",
       "      <th>RT</th>\n",
       "      <th>SV</th>\n",
       "      <th>ChoiceDifficulty</th>\n",
       "    </tr>\n",
       "    <tr>\n",
       "      <th>Subject</th>\n",
       "      <th>block</th>\n",
       "      <th></th>\n",
       "      <th></th>\n",
       "      <th></th>\n",
       "      <th></th>\n",
       "      <th></th>\n",
       "      <th></th>\n",
       "      <th></th>\n",
       "      <th></th>\n",
       "      <th></th>\n",
       "    </tr>\n",
       "  </thead>\n",
       "  <tbody>\n",
       "    <tr>\n",
       "      <th rowspan=\"3\" valign=\"top\">101</th>\n",
       "      <th>1</th>\n",
       "      <td>13.0</td>\n",
       "      <td>0.024680</td>\n",
       "      <td>-1.927825</td>\n",
       "      <td>54.323864</td>\n",
       "      <td>33.812</td>\n",
       "      <td>32.484000</td>\n",
       "      <td>4.774122</td>\n",
       "      <td>16.330604</td>\n",
       "      <td>0.157050</td>\n",
       "    </tr>\n",
       "    <tr>\n",
       "      <th>2</th>\n",
       "      <td>38.0</td>\n",
       "      <td>0.019443</td>\n",
       "      <td>-1.618751</td>\n",
       "      <td>56.760247</td>\n",
       "      <td>31.276</td>\n",
       "      <td>36.172000</td>\n",
       "      <td>5.386980</td>\n",
       "      <td>16.310364</td>\n",
       "      <td>0.162391</td>\n",
       "    </tr>\n",
       "    <tr>\n",
       "      <th>3</th>\n",
       "      <td>63.0</td>\n",
       "      <td>0.025214</td>\n",
       "      <td>-1.070509</td>\n",
       "      <td>52.305215</td>\n",
       "      <td>47.272</td>\n",
       "      <td>26.500000</td>\n",
       "      <td>5.336542</td>\n",
       "      <td>17.315490</td>\n",
       "      <td>0.157008</td>\n",
       "    </tr>\n",
       "    <tr>\n",
       "      <th rowspan=\"2\" valign=\"top\">102</th>\n",
       "      <th>1</th>\n",
       "      <td>13.0</td>\n",
       "      <td>0.015102</td>\n",
       "      <td>-1.604675</td>\n",
       "      <td>47.533694</td>\n",
       "      <td>36.332</td>\n",
       "      <td>28.912000</td>\n",
       "      <td>6.358332</td>\n",
       "      <td>12.931837</td>\n",
       "      <td>0.125733</td>\n",
       "    </tr>\n",
       "    <tr>\n",
       "      <th>2</th>\n",
       "      <td>38.0</td>\n",
       "      <td>0.012087</td>\n",
       "      <td>-1.518649</td>\n",
       "      <td>51.181055</td>\n",
       "      <td>36.508</td>\n",
       "      <td>27.812000</td>\n",
       "      <td>6.133793</td>\n",
       "      <td>13.125382</td>\n",
       "      <td>0.087304</td>\n",
       "    </tr>\n",
       "    <tr>\n",
       "      <th>...</th>\n",
       "      <th>...</th>\n",
       "      <td>...</td>\n",
       "      <td>...</td>\n",
       "      <td>...</td>\n",
       "      <td>...</td>\n",
       "      <td>...</td>\n",
       "      <td>...</td>\n",
       "      <td>...</td>\n",
       "      <td>...</td>\n",
       "      <td>...</td>\n",
       "    </tr>\n",
       "    <tr>\n",
       "      <th rowspan=\"2\" valign=\"top\">147</th>\n",
       "      <th>2</th>\n",
       "      <td>38.0</td>\n",
       "      <td>0.038745</td>\n",
       "      <td>-1.648762</td>\n",
       "      <td>62.651625</td>\n",
       "      <td>25.348</td>\n",
       "      <td>38.108000</td>\n",
       "      <td>6.221349</td>\n",
       "      <td>14.182238</td>\n",
       "      <td>0.067616</td>\n",
       "    </tr>\n",
       "    <tr>\n",
       "      <th>3</th>\n",
       "      <td>63.0</td>\n",
       "      <td>0.034575</td>\n",
       "      <td>-1.543027</td>\n",
       "      <td>47.735370</td>\n",
       "      <td>40.280</td>\n",
       "      <td>25.372000</td>\n",
       "      <td>5.897524</td>\n",
       "      <td>13.674392</td>\n",
       "      <td>0.121429</td>\n",
       "    </tr>\n",
       "    <tr>\n",
       "      <th rowspan=\"3\" valign=\"top\">148</th>\n",
       "      <th>1</th>\n",
       "      <td>13.0</td>\n",
       "      <td>0.003500</td>\n",
       "      <td>-1.561732</td>\n",
       "      <td>53.729655</td>\n",
       "      <td>33.650</td>\n",
       "      <td>33.416667</td>\n",
       "      <td>8.374055</td>\n",
       "      <td>19.141733</td>\n",
       "      <td>0.214045</td>\n",
       "    </tr>\n",
       "    <tr>\n",
       "      <th>2</th>\n",
       "      <td>38.0</td>\n",
       "      <td>0.005525</td>\n",
       "      <td>-0.931492</td>\n",
       "      <td>51.985982</td>\n",
       "      <td>46.400</td>\n",
       "      <td>31.300000</td>\n",
       "      <td>7.269716</td>\n",
       "      <td>21.468796</td>\n",
       "      <td>0.206876</td>\n",
       "    </tr>\n",
       "    <tr>\n",
       "      <th>3</th>\n",
       "      <td>63.0</td>\n",
       "      <td>0.002613</td>\n",
       "      <td>-2.123862</td>\n",
       "      <td>57.673689</td>\n",
       "      <td>30.704</td>\n",
       "      <td>42.836000</td>\n",
       "      <td>5.945575</td>\n",
       "      <td>20.366859</td>\n",
       "      <td>0.288102</td>\n",
       "    </tr>\n",
       "  </tbody>\n",
       "</table>\n",
       "<p>135 rows × 9 columns</p>\n",
       "</div>"
      ],
      "text/plain": [
       "                obs       MMI     slope  IntersectionY  X_allocation  \\\n",
       "Subject block                                                          \n",
       "101     1      13.0  0.024680 -1.927825      54.323864        33.812   \n",
       "        2      38.0  0.019443 -1.618751      56.760247        31.276   \n",
       "        3      63.0  0.025214 -1.070509      52.305215        47.272   \n",
       "102     1      13.0  0.015102 -1.604675      47.533694        36.332   \n",
       "        2      38.0  0.012087 -1.518649      51.181055        36.508   \n",
       "...             ...       ...       ...            ...           ...   \n",
       "147     2      38.0  0.038745 -1.648762      62.651625        25.348   \n",
       "        3      63.0  0.034575 -1.543027      47.735370        40.280   \n",
       "148     1      13.0  0.003500 -1.561732      53.729655        33.650   \n",
       "        2      38.0  0.005525 -0.931492      51.985982        46.400   \n",
       "        3      63.0  0.002613 -2.123862      57.673689        30.704   \n",
       "\n",
       "               Y_allocation        RT         SV  ChoiceDifficulty  \n",
       "Subject block                                                       \n",
       "101     1         32.484000  4.774122  16.330604          0.157050  \n",
       "        2         36.172000  5.386980  16.310364          0.162391  \n",
       "        3         26.500000  5.336542  17.315490          0.157008  \n",
       "102     1         28.912000  6.358332  12.931837          0.125733  \n",
       "        2         27.812000  6.133793  13.125382          0.087304  \n",
       "...                     ...       ...        ...               ...  \n",
       "147     2         38.108000  6.221349  14.182238          0.067616  \n",
       "        3         25.372000  5.897524  13.674392          0.121429  \n",
       "148     1         33.416667  8.374055  19.141733          0.214045  \n",
       "        2         31.300000  7.269716  21.468796          0.206876  \n",
       "        3         42.836000  5.945575  20.366859          0.288102  \n",
       "\n",
       "[135 rows x 9 columns]"
      ]
     },
     "execution_count": 342,
     "metadata": {},
     "output_type": "execute_result"
    }
   ],
   "source": [
    "Y = Y.groupby(['Subject', 'block']).mean()\n",
    "Y"
   ]
  },
  {
   "cell_type": "code",
   "execution_count": 343,
   "metadata": {},
   "outputs": [],
   "source": [
    "Y.loc[:, 'logMMI'] = np.log(Y.MMI)"
   ]
  },
  {
   "cell_type": "code",
   "execution_count": 363,
   "metadata": {},
   "outputs": [],
   "source": [
    "XY_merged = pd.concat([Y, X], axis=1, join='inner')"
   ]
  },
  {
   "cell_type": "code",
   "execution_count": 376,
   "metadata": {},
   "outputs": [
    {
     "data": {
      "text/plain": [
       "'SMA__PCC+VSTR__PCC+VSTR__SMA+Kolling__PCC+Kolling__SMA+Kolling__VSTR+M1__PCC+M1__SMA+M1__VSTR+M1__Kolling+VMPFC__PCC+VMPFC__SMA+VMPFC__VSTR+VMPFC__Kolling+VMPFC__M1'"
      ]
     },
     "execution_count": 376,
     "metadata": {},
     "output_type": "execute_result"
    }
   ],
   "source": [
    "covariates = '+'.join(X.columns.to_list())\n",
    "covariates"
   ]
  },
  {
   "cell_type": "code",
   "execution_count": 371,
   "metadata": {},
   "outputs": [],
   "source": [
    "XY_merged = XY_merged.reset_index()\n",
    "XY_merged = XY_merged.rename({'level_1':'Block'})"
   ]
  },
  {
   "cell_type": "code",
   "execution_count": 372,
   "metadata": {},
   "outputs": [],
   "source": [
    "lm = smf.mixedlm(f'logMMI ~ {covariates}', XY_merged, groups=XY_merged['Subject'])"
   ]
  },
  {
   "cell_type": "code",
   "execution_count": 373,
   "metadata": {},
   "outputs": [],
   "source": [
    "lasso_fit = lm.fit_regularized(alpha=3)"
   ]
  },
  {
   "cell_type": "code",
   "execution_count": 374,
   "metadata": {},
   "outputs": [],
   "source": [
    "lasso_mixed_selection = lasso_fit.params[1:-1]!=0"
   ]
  },
  {
   "cell_type": "code",
   "execution_count": 375,
   "metadata": {},
   "outputs": [
    {
     "data": {
      "text/plain": [
       "'VSTR__PCC+VSTR__SMA+Kolling__SMA+M1__PCC+M1__SMA+M1__VSTR+VMPFC__SMA+VMPFC__VSTR+VMPFC__Kolling'"
      ]
     },
     "execution_count": 375,
     "metadata": {},
     "output_type": "execute_result"
    }
   ],
   "source": [
    "covariates = '+'.join(X.loc[:, lasso_mixed_selection].columns.to_list())\n",
    "covariates"
   ]
  },
  {
   "cell_type": "code",
   "execution_count": 362,
   "metadata": {},
   "outputs": [
    {
     "data": {
      "text/plain": [
       "'VSTR__PCC+VMPFC__VSTR'"
      ]
     },
     "execution_count": 362,
     "metadata": {},
     "output_type": "execute_result"
    }
   ],
   "source": []
  },
  {
   "cell_type": "code",
   "execution_count": 334,
   "metadata": {},
   "outputs": [],
   "source": [
    "lm = smf.mixedlm(f'logMMI ~ {covariates}', XY_merged, groups=XY_merged['Subject'])"
   ]
  },
  {
   "cell_type": "code",
   "execution_count": 335,
   "metadata": {},
   "outputs": [],
   "source": [
    "lm_fit = lm.fit()"
   ]
  },
  {
   "cell_type": "code",
   "execution_count": 336,
   "metadata": {},
   "outputs": [
    {
     "name": "stdout",
     "output_type": "stream",
     "text": [
      "         Mixed Linear Model Regression Results\n",
      "=======================================================\n",
      "Model:            MixedLM Dependent Variable: logMMI   \n",
      "No. Observations: 128     Method:             REML     \n",
      "No. Groups:       43      Scale:              0.1396   \n",
      "Min. group size:  2       Log-Likelihood:     -125.4388\n",
      "Max. group size:  3       Converged:          Yes      \n",
      "Mean group size:  3.0                                  \n",
      "-------------------------------------------------------\n",
      "            Coef.  Std.Err.    z    P>|z| [0.025 0.975]\n",
      "-------------------------------------------------------\n",
      "Intercept   -3.974    0.220 -18.095 0.000 -4.405 -3.544\n",
      "VSTR__PCC   -0.070    0.354  -0.197 0.844 -0.765  0.625\n",
      "VMPFC__VSTR -0.554    0.341  -1.625 0.104 -1.223  0.114\n",
      "Group Var    1.170    0.872                            \n",
      "=======================================================\n",
      "\n"
     ]
    }
   ],
   "source": [
    "print(lm_fit.summary())"
   ]
  },
  {
   "cell_type": "code",
   "execution_count": 268,
   "metadata": {},
   "outputs": [
    {
     "data": {
      "text/plain": [
       "<bound method LikelihoodModelResults.f_test of <statsmodels.regression.mixed_linear_model.MixedLMResults object at 0x000001BE6FD947F0>>"
      ]
     },
     "execution_count": 268,
     "metadata": {},
     "output_type": "execute_result"
    }
   ],
   "source": [
    "lm_fit"
   ]
  }
 ],
 "metadata": {
  "interpreter": {
   "hash": "83051bd80da3d3146e96a83ba98e3b66eb00b8eaf8ab7c482d744fdda20a773b"
  },
  "kernelspec": {
   "display_name": "Python 3.9.7 64-bit ('base': conda)",
   "language": "python",
   "name": "python3"
  },
  "language_info": {
   "codemirror_mode": {
    "name": "ipython",
    "version": 3
   },
   "file_extension": ".py",
   "mimetype": "text/x-python",
   "name": "python",
   "nbconvert_exporter": "python",
   "pygments_lexer": "ipython3",
   "version": "3.9.7"
  },
  "orig_nbformat": 4
 },
 "nbformat": 4,
 "nbformat_minor": 2
}
