{
 "cells": [
  {
   "cell_type": "code",
   "execution_count": 1,
   "id": "d079b0db-9f37-4478-9462-4e7353a6c68e",
   "metadata": {},
   "outputs": [],
   "source": [
    "import scipy.io\n",
    "import matplotlib.pyplot as plt\n",
    "import urllib\n",
    "import glob\n",
    "import re\n",
    "import pandas as pd\n",
    "import numpy as np"
   ]
  },
  {
   "cell_type": "code",
   "execution_count": 2,
   "id": "a62f70bc-68d9-4883-857b-81d4d811f746",
   "metadata": {},
   "outputs": [],
   "source": [
    "def create_structural_matrix_df(path, pass_end, measure):\n",
    "    paths_p_tracts = glob.glob(f'{path}/*_{measure}_{pass_end}.mat')\n",
    "    # initiate atlas and labels\n",
    "    with open(\"../data/Schaefer2018_100Parcels_7Networks_order_info.txt\", 'r') as f:\n",
    "        parcels_text = f.read()\n",
    "    # select only even rows, which contain the labels \n",
    "    lines = parcels_text.split('\\n')[:-1]\n",
    "    lines = lines[::2]\n",
    "    # remove prefix from label: \"7Networks_\"\n",
    "    roi_labels = [parcel[10:] for parcel in lines]\n",
    "    # remove prefix from label: \"7Networks_\"\n",
    "    # roi_labels = [roi[10:] for roi in lines]\n",
    "    \n",
    "    pattern = re.compile('.*(\\d\\d\\d)_ep2d*') # pattern to find subject id\n",
    "    df_rows = []\n",
    "    for path in paths_p_tracts:\n",
    "        cm = scipy.io.loadmat(path)['CM']\n",
    "        tril_ind = np.tril_indices(cm.shape[0])\n",
    "        cm_tril = cm[tril_ind]\n",
    "        subject = int(re.findall(pattern, path)[0])\n",
    "        df_row = np.insert(cm_tril, obj=0, values=subject)\n",
    "        df_rows.append(df_row)\n",
    "        \n",
    "    # create label matrix\n",
    "    multi_ind = list(zip(tril_ind[0], tril_ind[1]))\n",
    "    label_mat = ['__'.join([roi_labels[i], roi_labels[j]]) for i,j in multi_ind]\n",
    "    df_columns = np.insert(label_mat, obj=0, values='Subject')\n",
    "    sc_df = pd.DataFrame(df_rows, columns=df_columns)\n",
    "    sc_df = sc_df.iloc[sc_df.Subject.argsort(),:].reset_index(drop=True)\n",
    "    sc_df = sc_df.set_index(sc_df['Subject'].astype(int))\n",
    "    \n",
    "    return sc_df"
   ]
  },
  {
   "cell_type": "code",
   "execution_count": 5,
   "id": "7b212f39-fb77-4f4d-bdbd-bd805d59fc34",
   "metadata": {},
   "outputs": [],
   "source": [
    "path = '/Volumes/homes/Asaf/processed_data/all_DTIs/all_mat/tracts/CMs/PASS'\n",
    "sc_df = create_structural_matrix_df(path, 'PASS', 'percentage_of_tracts')"
   ]
  },
  {
   "cell_type": "code",
   "execution_count": 9,
   "id": "9426dc01-4b10-43c2-8ff9-93e029b8ccdc",
   "metadata": {},
   "outputs": [
    {
     "data": {
      "text/plain": [
       "LH_Vis_1__LH_Vis_1                             0.015583\n",
       "LH_Vis_2__LH_Vis_1                             0.001252\n",
       "LH_Vis_2__LH_Vis_2                             0.016363\n",
       "LH_Vis_3__LH_Vis_1                             0.004617\n",
       "LH_Vis_3__LH_Vis_2                             0.003665\n",
       "                                                 ...   \n",
       "RH_Default_pCunPCC_2__RH_Default_PFCdPFCm_1    0.005485\n",
       "RH_Default_pCunPCC_2__RH_Default_PFCdPFCm_2    0.000989\n",
       "RH_Default_pCunPCC_2__RH_Default_PFCdPFCm_3         NaN\n",
       "RH_Default_pCunPCC_2__RH_Default_pCunPCC_1     0.004489\n",
       "RH_Default_pCunPCC_2__RH_Default_pCunPCC_2     0.019256\n",
       "Length: 5050, dtype: float64"
      ]
     },
     "execution_count": 9,
     "metadata": {},
     "output_type": "execute_result"
    }
   ],
   "source": [
    "sc_df.mean(axis=0)[1:]"
   ]
  },
  {
   "cell_type": "code",
   "execution_count": null,
   "id": "c08ed879",
   "metadata": {},
   "outputs": [],
   "source": []
  }
 ],
 "metadata": {
  "kernelspec": {
   "display_name": "Python 3 (ipykernel)",
   "language": "python",
   "name": "python3"
  },
  "language_info": {
   "codemirror_mode": {
    "name": "ipython",
    "version": 3
   },
   "file_extension": ".py",
   "mimetype": "text/x-python",
   "name": "python",
   "nbconvert_exporter": "python",
   "pygments_lexer": "ipython3",
   "version": "3.9.4"
  }
 },
 "nbformat": 4,
 "nbformat_minor": 5
}
