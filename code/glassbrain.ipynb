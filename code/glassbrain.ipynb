{
 "cells": [
  {
   "cell_type": "code",
   "execution_count": null,
   "metadata": {},
   "outputs": [],
   "source": [
    "import nilearn\n",
    "from nilearn import plotting\n",
    "from nilearn import datasets"
   ]
  },
  {
   "cell_type": "code",
   "execution_count": null,
   "id": "a908c4c6",
   "metadata": {},
   "outputs": [],
   "source": [
    "def threshold_p(feature_list, p):\n",
    "    '''\n",
    "    '''\n",
    "    absolute_feautres = np.abs(feature_list)\n",
    "    absolute_feautres.sort()\n",
    "    absolute_feautres = absolute_feautres[::-1]\n",
    "    threshold_index = int(len(feature_list) * p)\n",
    "    threshold = absolute_feautres[n - 1]\n",
    "    return threshold"
   ]
  },
  {
   "cell_type": "code",
   "execution_count": null,
   "id": "a639e5ba",
   "metadata": {},
   "outputs": [],
   "source": [
    "def threshold_n(feature_list, n):\n",
    "    absolute_feautres = np.abs(feature_list)\n",
    "    absolute_feautres.sort()\n",
    "    absolute_feautres = absolute_feautres[::-1]\n",
    "    threshold = absolute_feautres[n - 1]\n",
    "    return threshold"
   ]
  },
  {
   "cell_type": "code",
   "execution_count": null,
   "id": "ea8b9e3e",
   "metadata": {},
   "outputs": [],
   "source": [
    "def draw_glassbrain(importance_df):\n",
    "    '''\n",
    "    Draw glass-brain including the top 5 connetivity features based on importance_df.\n",
    "    \n",
    "    Parameters\n",
    "    ----------------------------\n",
    "            importance_df - DataFrame\n",
    "                DataFrame containing coefficients or feature importance of features of a model\n",
    "    \n",
    "    '''\n",
    "    # initiate atlas and labels\n",
    "    with open(\"../data/Schaefer2018_100Parcels_7Networks_order_info.txt\", 'r') as f:\n",
    "        parcels_text = f.read()\n",
    "    # select only even rows, which contain the labels \n",
    "    lines = parcels_text.split('\\n')[:-1]\n",
    "    lines = lines[::2]\n",
    "    # remove prefix from label: \"7Networks_\"\n",
    "    parcel_list = [parcel[10:] for parcel in lines]\n",
    "\n",
    "    schaefer = nilearn.datasets.fetch_atlas_schaefer_2018(n_rois=100, yeo_networks=7).maps\n",
    "    coordinates = plotting.find_parcellation_cut_coords(labels_img=schaefer)\n",
    "\n",
    "    for i in range(len(importance_df)):\n",
    "        # extract each node's name (splitted by \"__\")\n",
    "        node1_name = importance_df.loc[i, 'Feature'].split('__')[0]\n",
    "        node2_name = importance_df.loc[i, 'Feature'].split('__')[1] \n",
    "        importance_df.loc[i, 'Node1'] = int(parcel_list.index(node1_name))\n",
    "        importance_df.loc[i, 'Node2'] = int(parcel_list.index(node2_name))\n",
    "\n",
    "    # create features matrix\n",
    "    node_number = 100\n",
    "    features_matrix = np.zeros([node_number, node_number])\n",
    "    for i in range(len(importance_df)):\n",
    "        row, col = int(importance_df.loc[i, 'Node1']), int(importance_df.loc[i, 'Node2'])\n",
    "        features_matrix[row, col] = importance_df.loc[i, 'Beta']\n",
    "        # symmetric matrix, so [row, col] == [col, row]\n",
    "        features_matrix[col, row] = importance_df.loc[i, 'Beta']\n",
    "    \n",
    "    # draw brain\n",
    "    colors_list = ['purple', 'blue', 'green', 'violet', 'wheat', 'orange', 'red']\n",
    "    net_names = ['Vis', 'SomMot', 'DorsAttn', 'SalVentAttn', 'Limbic', 'Cont', 'Default']\n",
    "    color_dict = dict(zip(net_names, colors_list))\n",
    "    node_colors = []\n",
    "    for name in parcel_list:\n",
    "        net = name.split('_')[1]\n",
    "        node_colors.append(color_dict[net])\n",
    "    # find top 5 features \n",
    "    thresh = threshold_n(importance_df.Beta.to_list(), 5)\n",
    "    _ = plotting.plot_connectome(features_matrix, coordinates, edge_threshold = thresh,\n",
    "                                 display_mode = 'lzry', node_size = 25, node_color = node_colors, colorbar = True)"
   ]
  }
 ],
 "metadata": {
  "language_info": {
   "name": "python"
  },
  "orig_nbformat": 4
 },
 "nbformat": 4,
 "nbformat_minor": 2
}
